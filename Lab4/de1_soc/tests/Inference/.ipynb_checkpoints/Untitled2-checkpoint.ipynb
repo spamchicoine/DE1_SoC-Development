{
 "cells": [
  {
   "cell_type": "code",
   "execution_count": 12,
   "id": "b2f7fb97",
   "metadata": {},
   "outputs": [],
   "source": [
    "def twoSum(nums, target):\n",
    "        elems = {k: v for v, k in enumerate(nums)}\n",
    "        print(elems)\n",
    "        for i in range(len(nums)):\n",
    "            target_val = target - nums[i]\n",
    "            if target_val in elems:\n",
    "                if i != elems[target_val]:\n",
    "                    return [i,elems[target_val]]"
   ]
  },
  {
   "cell_type": "code",
   "execution_count": 14,
   "id": "f6401552",
   "metadata": {},
   "outputs": [
    {
     "name": "stdout",
     "output_type": "stream",
     "text": [
      "{3: 1}\n"
     ]
    },
    {
     "data": {
      "text/plain": [
       "[0, 1]"
      ]
     },
     "execution_count": 14,
     "metadata": {},
     "output_type": "execute_result"
    }
   ],
   "source": [
    "twoSum([3,3],6)"
   ]
  },
  {
   "cell_type": "code",
   "execution_count": 43,
   "id": "b6a80752",
   "metadata": {},
   "outputs": [],
   "source": [
    "def validAnagram(str1,str2):\n",
    "    if len(str1) != len(str2):\n",
    "        return False\n",
    "    else:\n",
    "        count = collections.Counter(s)\n",
    "        count.subtract(collections.Counter(t))\n",
    "        return all(freq == 0 for freq in count.values())\n",
    "    \n",
    "def groupAnagrams(strs):\n",
    "    total_ana = []\n",
    "    while(len(strs)):\n",
    "        elm_ana = [strs.pop(0)]\n",
    "        removed = 0\n",
    "        for j in range(len(strs)):\n",
    "            is_ana = validAnagram(elm_ana[0],strs[j-removed])\n",
    "            if is_ana:\n",
    "                elm_ana.append(strs.pop(j-removed))\n",
    "                removed += 1\n",
    "        total_ana.append(elm_ana)\n",
    "    return total_ana    "
   ]
  },
  {
   "cell_type": "code",
   "execution_count": 44,
   "id": "ec2b7ad6",
   "metadata": {},
   "outputs": [
    {
     "data": {
      "text/plain": [
       "[['eat', 'tea', 'tan', 'ate', 'nat', 'bat']]"
      ]
     },
     "execution_count": 44,
     "metadata": {},
     "output_type": "execute_result"
    }
   ],
   "source": [
    "groupAnagrams([\"eat\",\"tea\",\"tan\",\"ate\",\"nat\",\"bat\"])"
   ]
  },
  {
   "cell_type": "code",
   "execution_count": null,
   "id": "6456c48b",
   "metadata": {},
   "outputs": [],
   "source": []
  }
 ],
 "metadata": {
  "kernelspec": {
   "display_name": "Python 3 (ipykernel)",
   "language": "python",
   "name": "python3"
  },
  "language_info": {
   "codemirror_mode": {
    "name": "ipython",
    "version": 3
   },
   "file_extension": ".py",
   "mimetype": "text/x-python",
   "name": "python",
   "nbconvert_exporter": "python",
   "pygments_lexer": "ipython3",
   "version": "3.10.10"
  }
 },
 "nbformat": 4,
 "nbformat_minor": 5
}
