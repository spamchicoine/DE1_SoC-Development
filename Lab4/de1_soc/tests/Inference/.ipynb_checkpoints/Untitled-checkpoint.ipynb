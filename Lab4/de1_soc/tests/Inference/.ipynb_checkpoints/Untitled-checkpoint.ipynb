{
 "cells": [
  {
   "cell_type": "code",
   "execution_count": 1,
   "id": "1d45cbee",
   "metadata": {},
   "outputs": [],
   "source": [
    "import torch\n",
    "import torch.nn as nn\n",
    "import torch.nn.functional as F\n",
    "import torch.optim as optim\n",
    "from torchvision import datasets, transforms\n",
    "from torch.quantization import QuantStub, DeQuantStub\n",
    "\n",
    "class Net(nn.Module):\n",
    "    def __init__(self):\n",
    "        super(Net, self).__init__()\n",
    "        self.quant = QuantStub()\n",
    "        self.fc1 = nn.Linear(784, 10)  # Input layer to Hidden layer\n",
    "        self.fc2 = nn.Linear(10, 10)   # Hidden layer to Output layer\n",
    "        self.dequant = DeQuantStub()\n",
    "\n",
    "    def forward(self, x):\n",
    "        x = self.quant(x)\n",
    "        x = F.relu(self.fc1(x.view(-1, 784)))\n",
    "        x = self.fc2(x)\n",
    "        x = F.log_softmax(x, dim=1)\n",
    "        x = self.dequant(x)\n",
    "        return x"
   ]
  },
  {
   "cell_type": "code",
   "execution_count": 2,
   "id": "060bd2ae",
   "metadata": {},
   "outputs": [],
   "source": [
    "transform = transforms.Compose([\n",
    "    transforms.ToTensor(),\n",
    "    transforms.Normalize((0.1307,), (0.3081,))\n",
    "])\n",
    "\n",
    "train_dataset = datasets.MNIST('data', train=True, download=True, transform=transform)\n",
    "test_dataset = datasets.MNIST('data', train=False, transform=transform)\n",
    "\n",
    "train_loader = torch.utils.data.DataLoader(train_dataset, batch_size=64, shuffle=True)\n",
    "test_loader = torch.utils.data.DataLoader(test_dataset, batch_size=1000, shuffle=False)"
   ]
  },
  {
   "cell_type": "code",
   "execution_count": 3,
   "id": "6761f2e8",
   "metadata": {},
   "outputs": [],
   "source": [
    "def train(model, device, train_loader, optimizer, epoch):\n",
    "    model.train()\n",
    "    for batch_idx, (data, target) in enumerate(train_loader):\n",
    "        data, target = data.to(device), target.to(device)\n",
    "        optimizer.zero_grad()\n",
    "        output = model(data)\n",
    "        loss = F.nll_loss(output, target)\n",
    "        loss.backward()\n",
    "        optimizer.step()\n",
    "        if batch_idx % 100 == 0:\n",
    "            print('Train Epoch: {} [{}/{} ({:.0f}%)]\\tLoss: {:.6f}'.format(\n",
    "                epoch, batch_idx * len(data), len(train_loader.dataset),\n",
    "                100. * batch_idx / len(train_loader), loss.item()))\n",
    "\n",
    "def test(model, device, test_loader):\n",
    "    model.eval()\n",
    "    test_loss = 0\n",
    "    correct = 0\n",
    "    with torch.no_grad():\n",
    "        for data, target in test_loader:\n",
    "            data, target = data.to(device), target.to(device)\n",
    "            output = model(data)\n",
    "            test_loss += F.nll_loss(output, target, reduction='sum').item()  # sum up batch loss\n",
    "            pred = output.argmax(dim=1, keepdim=True)  # get the index of the max log-probability\n",
    "            correct += pred.eq(target.view_as(pred)).sum().item()\n",
    "\n",
    "    test_loss /= len(test_loader.dataset)\n",
    "    print('\\nTest set: Average loss: {:.4f}, Accuracy: {}/{} ({:.0f}%)\\n'.format(\n",
    "        test_loss, correct, len(test_loader.dataset),\n",
    "        100. * correct / len(test_loader.dataset)))"
   ]
  },
  {
   "cell_type": "code",
   "execution_count": 4,
   "id": "e7922d68",
   "metadata": {},
   "outputs": [
    {
     "name": "stderr",
     "output_type": "stream",
     "text": [
      "/ChanduHDD/anaconda3/envs/MLclass/lib/python3.10/site-packages/torch/ao/quantization/observer.py:214: UserWarning: Please use quant_min and quant_max to specify the range for observers.                     reduce_range will be deprecated in a future release of PyTorch.\n",
      "  warnings.warn(\n"
     ]
    },
    {
     "data": {
      "text/plain": [
       "Net(\n",
       "  (quant): QuantStub(\n",
       "    (activation_post_process): FusedMovingAvgObsFakeQuantize(\n",
       "      fake_quant_enabled=tensor([1]), observer_enabled=tensor([1]), scale=tensor([1.]), zero_point=tensor([0], dtype=torch.int32), dtype=torch.quint8, quant_min=0, quant_max=127, qscheme=torch.per_tensor_affine, reduce_range=True\n",
       "      (activation_post_process): MovingAverageMinMaxObserver(min_val=inf, max_val=-inf)\n",
       "    )\n",
       "  )\n",
       "  (fc1): Linear(\n",
       "    in_features=784, out_features=10, bias=True\n",
       "    (weight_fake_quant): FusedMovingAvgObsFakeQuantize(\n",
       "      fake_quant_enabled=tensor([1]), observer_enabled=tensor([1]), scale=tensor([1.]), zero_point=tensor([0], dtype=torch.int32), dtype=torch.qint8, quant_min=-128, quant_max=127, qscheme=torch.per_channel_symmetric, reduce_range=False\n",
       "      (activation_post_process): MovingAveragePerChannelMinMaxObserver(min_val=tensor([]), max_val=tensor([]))\n",
       "    )\n",
       "    (activation_post_process): FusedMovingAvgObsFakeQuantize(\n",
       "      fake_quant_enabled=tensor([1]), observer_enabled=tensor([1]), scale=tensor([1.]), zero_point=tensor([0], dtype=torch.int32), dtype=torch.quint8, quant_min=0, quant_max=127, qscheme=torch.per_tensor_affine, reduce_range=True\n",
       "      (activation_post_process): MovingAverageMinMaxObserver(min_val=inf, max_val=-inf)\n",
       "    )\n",
       "  )\n",
       "  (fc2): Linear(\n",
       "    in_features=10, out_features=10, bias=True\n",
       "    (weight_fake_quant): FusedMovingAvgObsFakeQuantize(\n",
       "      fake_quant_enabled=tensor([1]), observer_enabled=tensor([1]), scale=tensor([1.]), zero_point=tensor([0], dtype=torch.int32), dtype=torch.qint8, quant_min=-128, quant_max=127, qscheme=torch.per_channel_symmetric, reduce_range=False\n",
       "      (activation_post_process): MovingAveragePerChannelMinMaxObserver(min_val=tensor([]), max_val=tensor([]))\n",
       "    )\n",
       "    (activation_post_process): FusedMovingAvgObsFakeQuantize(\n",
       "      fake_quant_enabled=tensor([1]), observer_enabled=tensor([1]), scale=tensor([1.]), zero_point=tensor([0], dtype=torch.int32), dtype=torch.quint8, quant_min=0, quant_max=127, qscheme=torch.per_tensor_affine, reduce_range=True\n",
       "      (activation_post_process): MovingAverageMinMaxObserver(min_val=inf, max_val=-inf)\n",
       "    )\n",
       "  )\n",
       "  (dequant): DeQuantStub()\n",
       ")"
      ]
     },
     "execution_count": 4,
     "metadata": {},
     "output_type": "execute_result"
    }
   ],
   "source": [
    "device = torch.device(\"cuda\" if torch.cuda.is_available() else \"cpu\")\n",
    "model = Net().to(device)\n",
    "model.qconfig = torch.quantization.get_default_qat_qconfig('fbgemm')\n",
    "torch.quantization.prepare_qat(model, inplace=True)"
   ]
  },
  {
   "cell_type": "code",
   "execution_count": 5,
   "id": "352c5077",
   "metadata": {},
   "outputs": [
    {
     "name": "stdout",
     "output_type": "stream",
     "text": [
      "Train Epoch: 1 [0/60000 (0%)]\tLoss: 2.369808\n",
      "Train Epoch: 1 [6400/60000 (11%)]\tLoss: 1.584444\n",
      "Train Epoch: 1 [12800/60000 (21%)]\tLoss: 1.156128\n",
      "Train Epoch: 1 [19200/60000 (32%)]\tLoss: 0.779326\n",
      "Train Epoch: 1 [25600/60000 (43%)]\tLoss: 0.564535\n",
      "Train Epoch: 1 [32000/60000 (53%)]\tLoss: 0.662630\n",
      "Train Epoch: 1 [38400/60000 (64%)]\tLoss: 0.845323\n",
      "Train Epoch: 1 [44800/60000 (75%)]\tLoss: 0.541422\n",
      "Train Epoch: 1 [51200/60000 (85%)]\tLoss: 0.482389\n",
      "Train Epoch: 1 [57600/60000 (96%)]\tLoss: 0.418198\n",
      "\n",
      "Test set: Average loss: 0.4747, Accuracy: 8734/10000 (87%)\n",
      "\n",
      "Train Epoch: 2 [0/60000 (0%)]\tLoss: 0.392840\n",
      "Train Epoch: 2 [6400/60000 (11%)]\tLoss: 0.411781\n",
      "Train Epoch: 2 [12800/60000 (21%)]\tLoss: 0.520732\n",
      "Train Epoch: 2 [19200/60000 (32%)]\tLoss: 0.502909\n",
      "Train Epoch: 2 [25600/60000 (43%)]\tLoss: 0.432881\n",
      "Train Epoch: 2 [32000/60000 (53%)]\tLoss: 0.333689\n",
      "Train Epoch: 2 [38400/60000 (64%)]\tLoss: 0.429526\n",
      "Train Epoch: 2 [44800/60000 (75%)]\tLoss: 0.327923\n",
      "Train Epoch: 2 [51200/60000 (85%)]\tLoss: 0.485646\n",
      "Train Epoch: 2 [57600/60000 (96%)]\tLoss: 0.342244\n",
      "\n",
      "Test set: Average loss: 0.3640, Accuracy: 8956/10000 (90%)\n",
      "\n",
      "Train Epoch: 3 [0/60000 (0%)]\tLoss: 0.141967\n",
      "Train Epoch: 3 [6400/60000 (11%)]\tLoss: 0.263418\n",
      "Train Epoch: 3 [12800/60000 (21%)]\tLoss: 0.546039\n",
      "Train Epoch: 3 [19200/60000 (32%)]\tLoss: 0.263560\n",
      "Train Epoch: 3 [25600/60000 (43%)]\tLoss: 0.262315\n",
      "Train Epoch: 3 [32000/60000 (53%)]\tLoss: 0.244696\n",
      "Train Epoch: 3 [38400/60000 (64%)]\tLoss: 0.432990\n",
      "Train Epoch: 3 [44800/60000 (75%)]\tLoss: 0.301002\n",
      "Train Epoch: 3 [51200/60000 (85%)]\tLoss: 0.403968\n",
      "Train Epoch: 3 [57600/60000 (96%)]\tLoss: 0.277995\n",
      "\n",
      "Test set: Average loss: 0.3202, Accuracy: 9077/10000 (91%)\n",
      "\n",
      "Train Epoch: 4 [0/60000 (0%)]\tLoss: 0.364832\n",
      "Train Epoch: 4 [6400/60000 (11%)]\tLoss: 0.396653\n",
      "Train Epoch: 4 [12800/60000 (21%)]\tLoss: 0.256403\n",
      "Train Epoch: 4 [19200/60000 (32%)]\tLoss: 0.327701\n",
      "Train Epoch: 4 [25600/60000 (43%)]\tLoss: 0.129983\n",
      "Train Epoch: 4 [32000/60000 (53%)]\tLoss: 0.272265\n",
      "Train Epoch: 4 [38400/60000 (64%)]\tLoss: 0.157220\n",
      "Train Epoch: 4 [44800/60000 (75%)]\tLoss: 0.262289\n",
      "Train Epoch: 4 [51200/60000 (85%)]\tLoss: 0.243831\n",
      "Train Epoch: 4 [57600/60000 (96%)]\tLoss: 0.361991\n",
      "\n",
      "Test set: Average loss: 0.2946, Accuracy: 9147/10000 (91%)\n",
      "\n",
      "Train Epoch: 5 [0/60000 (0%)]\tLoss: 0.237041\n",
      "Train Epoch: 5 [6400/60000 (11%)]\tLoss: 0.146464\n",
      "Train Epoch: 5 [12800/60000 (21%)]\tLoss: 0.344006\n",
      "Train Epoch: 5 [19200/60000 (32%)]\tLoss: 0.184187\n",
      "Train Epoch: 5 [25600/60000 (43%)]\tLoss: 0.465516\n",
      "Train Epoch: 5 [32000/60000 (53%)]\tLoss: 0.271833\n",
      "Train Epoch: 5 [38400/60000 (64%)]\tLoss: 0.186434\n",
      "Train Epoch: 5 [44800/60000 (75%)]\tLoss: 0.200846\n",
      "Train Epoch: 5 [51200/60000 (85%)]\tLoss: 0.360528\n",
      "Train Epoch: 5 [57600/60000 (96%)]\tLoss: 0.281273\n",
      "\n",
      "Test set: Average loss: 0.2858, Accuracy: 9195/10000 (92%)\n",
      "\n",
      "Train Epoch: 6 [0/60000 (0%)]\tLoss: 0.187853\n",
      "Train Epoch: 6 [6400/60000 (11%)]\tLoss: 0.319624\n",
      "Train Epoch: 6 [12800/60000 (21%)]\tLoss: 0.413125\n",
      "Train Epoch: 6 [19200/60000 (32%)]\tLoss: 0.228710\n",
      "Train Epoch: 6 [25600/60000 (43%)]\tLoss: 0.220807\n",
      "Train Epoch: 6 [32000/60000 (53%)]\tLoss: 0.312061\n",
      "Train Epoch: 6 [38400/60000 (64%)]\tLoss: 0.301517\n",
      "Train Epoch: 6 [44800/60000 (75%)]\tLoss: 0.207493\n",
      "Train Epoch: 6 [51200/60000 (85%)]\tLoss: 0.246448\n",
      "Train Epoch: 6 [57600/60000 (96%)]\tLoss: 0.457000\n",
      "\n",
      "Test set: Average loss: 0.2839, Accuracy: 9194/10000 (92%)\n",
      "\n",
      "Train Epoch: 7 [0/60000 (0%)]\tLoss: 0.218620\n",
      "Train Epoch: 7 [6400/60000 (11%)]\tLoss: 0.164950\n",
      "Train Epoch: 7 [12800/60000 (21%)]\tLoss: 0.280536\n",
      "Train Epoch: 7 [19200/60000 (32%)]\tLoss: 0.213500\n",
      "Train Epoch: 7 [25600/60000 (43%)]\tLoss: 0.296888\n",
      "Train Epoch: 7 [32000/60000 (53%)]\tLoss: 0.246616\n",
      "Train Epoch: 7 [38400/60000 (64%)]\tLoss: 0.166727\n",
      "Train Epoch: 7 [44800/60000 (75%)]\tLoss: 0.181974\n",
      "Train Epoch: 7 [51200/60000 (85%)]\tLoss: 0.176353\n",
      "Train Epoch: 7 [57600/60000 (96%)]\tLoss: 0.268153\n",
      "\n",
      "Test set: Average loss: 0.2806, Accuracy: 9227/10000 (92%)\n",
      "\n",
      "Train Epoch: 8 [0/60000 (0%)]\tLoss: 0.258021\n",
      "Train Epoch: 8 [6400/60000 (11%)]\tLoss: 0.376359\n",
      "Train Epoch: 8 [12800/60000 (21%)]\tLoss: 0.414101\n",
      "Train Epoch: 8 [19200/60000 (32%)]\tLoss: 0.327376\n",
      "Train Epoch: 8 [25600/60000 (43%)]\tLoss: 0.291129\n",
      "Train Epoch: 8 [32000/60000 (53%)]\tLoss: 0.352261\n",
      "Train Epoch: 8 [38400/60000 (64%)]\tLoss: 0.304901\n",
      "Train Epoch: 8 [44800/60000 (75%)]\tLoss: 0.328619\n",
      "Train Epoch: 8 [51200/60000 (85%)]\tLoss: 0.281780\n",
      "Train Epoch: 8 [57600/60000 (96%)]\tLoss: 0.170561\n",
      "\n",
      "Test set: Average loss: 0.2778, Accuracy: 9185/10000 (92%)\n",
      "\n",
      "Train Epoch: 9 [0/60000 (0%)]\tLoss: 0.189510\n",
      "Train Epoch: 9 [6400/60000 (11%)]\tLoss: 0.150405\n",
      "Train Epoch: 9 [12800/60000 (21%)]\tLoss: 0.458602\n",
      "Train Epoch: 9 [19200/60000 (32%)]\tLoss: 0.312848\n",
      "Train Epoch: 9 [25600/60000 (43%)]\tLoss: 0.234937\n",
      "Train Epoch: 9 [32000/60000 (53%)]\tLoss: 0.367816\n",
      "Train Epoch: 9 [38400/60000 (64%)]\tLoss: 0.146414\n",
      "Train Epoch: 9 [44800/60000 (75%)]\tLoss: 0.219049\n",
      "Train Epoch: 9 [51200/60000 (85%)]\tLoss: 0.299369\n",
      "Train Epoch: 9 [57600/60000 (96%)]\tLoss: 0.266952\n",
      "\n",
      "Test set: Average loss: 0.2789, Accuracy: 9197/10000 (92%)\n",
      "\n"
     ]
    },
    {
     "data": {
      "text/plain": [
       "Net(\n",
       "  (quant): Quantize(scale=tensor([0.0256]), zero_point=tensor([17]), dtype=torch.quint8)\n",
       "  (fc1): QuantizedLinear(in_features=784, out_features=10, scale=0.22472526133060455, zero_point=41, qscheme=torch.per_channel_affine)\n",
       "  (fc2): QuantizedLinear(in_features=10, out_features=10, scale=0.23055149614810944, zero_point=73, qscheme=torch.per_channel_affine)\n",
       "  (dequant): DeQuantize()\n",
       ")"
      ]
     },
     "execution_count": 5,
     "metadata": {},
     "output_type": "execute_result"
    }
   ],
   "source": [
    "optimizer = optim.SGD(model.parameters(), lr=0.01, momentum=0.5)\n",
    "model.to(device)\n",
    "\n",
    "for epoch in range(1, 10):  # Run for 10 epochs for demonstration; adjust as needed\n",
    "    train(model, device, train_loader, optimizer, epoch)\n",
    "    test(model, device, test_loader)\n",
    "    if epoch > 3:  # Freeze quantizer parameters after the first few epochs\n",
    "        model.apply(torch.quantization.disable_observer)\n",
    "    if epoch > 4:  # Freeze batch norm mean and variance estimates\n",
    "        model.apply(torch.nn.intrinsic.qat.freeze_bn_stats)\n",
    "\n",
    "# Convert to quantized version for inference\n",
    "model.to('cpu')\n",
    "torch.quantization.convert(model, inplace=True)"
   ]
  },
  {
   "cell_type": "code",
   "execution_count": 6,
   "id": "5eba6bad",
   "metadata": {},
   "outputs": [
    {
     "ename": "NotImplementedError",
     "evalue": "Could not run 'aten::_log_softmax.out' with arguments from the 'QuantizedCPU' backend. This could be because the operator doesn't exist for this backend, or was omitted during the selective/custom build process (if using custom build). If you are a Facebook employee using PyTorch on mobile, please visit https://fburl.com/ptmfixes for possible resolutions. 'aten::_log_softmax.out' is only available for these backends: [CPU, CUDA, Meta, BackendSelect, Python, FuncTorchDynamicLayerBackMode, Functionalize, Named, Conjugate, Negative, ZeroTensor, ADInplaceOrView, AutogradOther, AutogradCPU, AutogradCUDA, AutogradHIP, AutogradXLA, AutogradMPS, AutogradIPU, AutogradXPU, AutogradHPU, AutogradVE, AutogradLazy, AutogradMeta, AutogradMTIA, AutogradPrivateUse1, AutogradPrivateUse2, AutogradPrivateUse3, AutogradNestedTensor, Tracer, AutocastCPU, AutocastCUDA, FuncTorchBatched, FuncTorchVmapMode, Batched, VmapMode, FuncTorchGradWrapper, PythonTLSSnapshot, FuncTorchDynamicLayerFrontMode, PythonDispatcher].\n\nCPU: registered at aten/src/ATen/RegisterCPU.cpp:31034 [kernel]\nCUDA: registered at aten/src/ATen/RegisterCUDA.cpp:43986 [kernel]\nMeta: registered at /dev/null:241 [kernel]\nBackendSelect: fallthrough registered at ../aten/src/ATen/core/BackendSelectFallbackKernel.cpp:3 [backend fallback]\nPython: registered at ../aten/src/ATen/core/PythonFallbackKernel.cpp:144 [backend fallback]\nFuncTorchDynamicLayerBackMode: registered at ../aten/src/ATen/functorch/DynamicLayer.cpp:491 [backend fallback]\nFunctionalize: registered at aten/src/ATen/RegisterFunctionalization_3.cpp:22788 [kernel]\nNamed: registered at ../aten/src/ATen/core/NamedRegistrations.cpp:7 [backend fallback]\nConjugate: registered at ../aten/src/ATen/ConjugateFallback.cpp:17 [backend fallback]\nNegative: registered at ../aten/src/ATen/native/NegateFallback.cpp:19 [backend fallback]\nZeroTensor: registered at ../aten/src/ATen/ZeroTensorFallback.cpp:86 [backend fallback]\nADInplaceOrView: registered at ../torch/csrc/autograd/generated/ADInplaceOrViewType_1.cpp:5017 [kernel]\nAutogradOther: registered at ../torch/csrc/autograd/generated/VariableType_0.cpp:15232 [autograd kernel]\nAutogradCPU: registered at ../torch/csrc/autograd/generated/VariableType_0.cpp:15232 [autograd kernel]\nAutogradCUDA: registered at ../torch/csrc/autograd/generated/VariableType_0.cpp:15232 [autograd kernel]\nAutogradHIP: registered at ../torch/csrc/autograd/generated/VariableType_0.cpp:15232 [autograd kernel]\nAutogradXLA: registered at ../torch/csrc/autograd/generated/VariableType_0.cpp:15232 [autograd kernel]\nAutogradMPS: registered at ../torch/csrc/autograd/generated/VariableType_0.cpp:15232 [autograd kernel]\nAutogradIPU: registered at ../torch/csrc/autograd/generated/VariableType_0.cpp:15232 [autograd kernel]\nAutogradXPU: registered at ../torch/csrc/autograd/generated/VariableType_0.cpp:15232 [autograd kernel]\nAutogradHPU: registered at ../torch/csrc/autograd/generated/VariableType_0.cpp:15232 [autograd kernel]\nAutogradVE: registered at ../torch/csrc/autograd/generated/VariableType_0.cpp:15232 [autograd kernel]\nAutogradLazy: registered at ../torch/csrc/autograd/generated/VariableType_0.cpp:15232 [autograd kernel]\nAutogradMeta: registered at ../torch/csrc/autograd/generated/VariableType_0.cpp:15232 [autograd kernel]\nAutogradMTIA: registered at ../torch/csrc/autograd/generated/VariableType_0.cpp:15232 [autograd kernel]\nAutogradPrivateUse1: registered at ../torch/csrc/autograd/generated/VariableType_0.cpp:15232 [autograd kernel]\nAutogradPrivateUse2: registered at ../torch/csrc/autograd/generated/VariableType_0.cpp:15232 [autograd kernel]\nAutogradPrivateUse3: registered at ../torch/csrc/autograd/generated/VariableType_0.cpp:15232 [autograd kernel]\nAutogradNestedTensor: registered at ../torch/csrc/autograd/generated/VariableType_0.cpp:15232 [autograd kernel]\nTracer: registered at ../torch/csrc/autograd/generated/TraceType_0.cpp:16728 [kernel]\nAutocastCPU: fallthrough registered at ../aten/src/ATen/autocast_mode.cpp:487 [backend fallback]\nAutocastCUDA: fallthrough registered at ../aten/src/ATen/autocast_mode.cpp:354 [backend fallback]\nFuncTorchBatched: registered at ../aten/src/ATen/functorch/LegacyBatchingRegistrations.cpp:815 [backend fallback]\nFuncTorchVmapMode: fallthrough registered at ../aten/src/ATen/functorch/VmapModeRegistrations.cpp:28 [backend fallback]\nBatched: registered at ../aten/src/ATen/LegacyBatchingRegistrations.cpp:1073 [backend fallback]\nVmapMode: fallthrough registered at ../aten/src/ATen/VmapModeRegistrations.cpp:33 [backend fallback]\nFuncTorchGradWrapper: registered at ../aten/src/ATen/functorch/TensorWrapper.cpp:210 [backend fallback]\nPythonTLSSnapshot: registered at ../aten/src/ATen/core/PythonFallbackKernel.cpp:152 [backend fallback]\nFuncTorchDynamicLayerFrontMode: registered at ../aten/src/ATen/functorch/DynamicLayer.cpp:487 [backend fallback]\nPythonDispatcher: registered at ../aten/src/ATen/core/PythonFallbackKernel.cpp:148 [backend fallback]\n",
     "output_type": "error",
     "traceback": [
      "\u001b[0;31m---------------------------------------------------------------------------\u001b[0m",
      "\u001b[0;31mNotImplementedError\u001b[0m                       Traceback (most recent call last)",
      "Cell \u001b[0;32mIn[6], line 1\u001b[0m\n\u001b[0;32m----> 1\u001b[0m \u001b[43mtest\u001b[49m\u001b[43m(\u001b[49m\u001b[43mmodel\u001b[49m\u001b[43m,\u001b[49m\u001b[43m \u001b[49m\u001b[43mdevice\u001b[49m\u001b[43m,\u001b[49m\u001b[43m \u001b[49m\u001b[43mtest_loader\u001b[49m\u001b[43m)\u001b[49m\n",
      "Cell \u001b[0;32mIn[3], line 22\u001b[0m, in \u001b[0;36mtest\u001b[0;34m(model, device, test_loader)\u001b[0m\n\u001b[1;32m     20\u001b[0m \u001b[38;5;28;01mfor\u001b[39;00m data, target \u001b[38;5;129;01min\u001b[39;00m test_loader:\n\u001b[1;32m     21\u001b[0m     data, target \u001b[38;5;241m=\u001b[39m data\u001b[38;5;241m.\u001b[39mto(device), target\u001b[38;5;241m.\u001b[39mto(device)\n\u001b[0;32m---> 22\u001b[0m     output \u001b[38;5;241m=\u001b[39m \u001b[43mmodel\u001b[49m\u001b[43m(\u001b[49m\u001b[43mdata\u001b[49m\u001b[43m)\u001b[49m\n\u001b[1;32m     23\u001b[0m     test_loss \u001b[38;5;241m+\u001b[39m\u001b[38;5;241m=\u001b[39m F\u001b[38;5;241m.\u001b[39mnll_loss(output, target, reduction\u001b[38;5;241m=\u001b[39m\u001b[38;5;124m'\u001b[39m\u001b[38;5;124msum\u001b[39m\u001b[38;5;124m'\u001b[39m)\u001b[38;5;241m.\u001b[39mitem()  \u001b[38;5;66;03m# sum up batch loss\u001b[39;00m\n\u001b[1;32m     24\u001b[0m     pred \u001b[38;5;241m=\u001b[39m output\u001b[38;5;241m.\u001b[39margmax(dim\u001b[38;5;241m=\u001b[39m\u001b[38;5;241m1\u001b[39m, keepdim\u001b[38;5;241m=\u001b[39m\u001b[38;5;28;01mTrue\u001b[39;00m)  \u001b[38;5;66;03m# get the index of the max log-probability\u001b[39;00m\n",
      "File \u001b[0;32m/ChanduHDD/anaconda3/envs/MLclass/lib/python3.10/site-packages/torch/nn/modules/module.py:1501\u001b[0m, in \u001b[0;36mModule._call_impl\u001b[0;34m(self, *args, **kwargs)\u001b[0m\n\u001b[1;32m   1496\u001b[0m \u001b[38;5;66;03m# If we don't have any hooks, we want to skip the rest of the logic in\u001b[39;00m\n\u001b[1;32m   1497\u001b[0m \u001b[38;5;66;03m# this function, and just call forward.\u001b[39;00m\n\u001b[1;32m   1498\u001b[0m \u001b[38;5;28;01mif\u001b[39;00m \u001b[38;5;129;01mnot\u001b[39;00m (\u001b[38;5;28mself\u001b[39m\u001b[38;5;241m.\u001b[39m_backward_hooks \u001b[38;5;129;01mor\u001b[39;00m \u001b[38;5;28mself\u001b[39m\u001b[38;5;241m.\u001b[39m_backward_pre_hooks \u001b[38;5;129;01mor\u001b[39;00m \u001b[38;5;28mself\u001b[39m\u001b[38;5;241m.\u001b[39m_forward_hooks \u001b[38;5;129;01mor\u001b[39;00m \u001b[38;5;28mself\u001b[39m\u001b[38;5;241m.\u001b[39m_forward_pre_hooks\n\u001b[1;32m   1499\u001b[0m         \u001b[38;5;129;01mor\u001b[39;00m _global_backward_pre_hooks \u001b[38;5;129;01mor\u001b[39;00m _global_backward_hooks\n\u001b[1;32m   1500\u001b[0m         \u001b[38;5;129;01mor\u001b[39;00m _global_forward_hooks \u001b[38;5;129;01mor\u001b[39;00m _global_forward_pre_hooks):\n\u001b[0;32m-> 1501\u001b[0m     \u001b[38;5;28;01mreturn\u001b[39;00m \u001b[43mforward_call\u001b[49m\u001b[43m(\u001b[49m\u001b[38;5;241;43m*\u001b[39;49m\u001b[43margs\u001b[49m\u001b[43m,\u001b[49m\u001b[43m \u001b[49m\u001b[38;5;241;43m*\u001b[39;49m\u001b[38;5;241;43m*\u001b[39;49m\u001b[43mkwargs\u001b[49m\u001b[43m)\u001b[49m\n\u001b[1;32m   1502\u001b[0m \u001b[38;5;66;03m# Do not call functions when jit is used\u001b[39;00m\n\u001b[1;32m   1503\u001b[0m full_backward_hooks, non_full_backward_hooks \u001b[38;5;241m=\u001b[39m [], []\n",
      "Cell \u001b[0;32mIn[1], line 20\u001b[0m, in \u001b[0;36mNet.forward\u001b[0;34m(self, x)\u001b[0m\n\u001b[1;32m     18\u001b[0m x \u001b[38;5;241m=\u001b[39m F\u001b[38;5;241m.\u001b[39mrelu(\u001b[38;5;28mself\u001b[39m\u001b[38;5;241m.\u001b[39mfc1(x\u001b[38;5;241m.\u001b[39mview(\u001b[38;5;241m-\u001b[39m\u001b[38;5;241m1\u001b[39m, \u001b[38;5;241m784\u001b[39m)))\n\u001b[1;32m     19\u001b[0m x \u001b[38;5;241m=\u001b[39m \u001b[38;5;28mself\u001b[39m\u001b[38;5;241m.\u001b[39mfc2(x)\n\u001b[0;32m---> 20\u001b[0m x \u001b[38;5;241m=\u001b[39m \u001b[43mF\u001b[49m\u001b[38;5;241;43m.\u001b[39;49m\u001b[43mlog_softmax\u001b[49m\u001b[43m(\u001b[49m\u001b[43mx\u001b[49m\u001b[43m,\u001b[49m\u001b[43m \u001b[49m\u001b[43mdim\u001b[49m\u001b[38;5;241;43m=\u001b[39;49m\u001b[38;5;241;43m1\u001b[39;49m\u001b[43m)\u001b[49m\n\u001b[1;32m     21\u001b[0m x \u001b[38;5;241m=\u001b[39m \u001b[38;5;28mself\u001b[39m\u001b[38;5;241m.\u001b[39mdequant(x)\n\u001b[1;32m     22\u001b[0m \u001b[38;5;28;01mreturn\u001b[39;00m x\n",
      "File \u001b[0;32m/ChanduHDD/anaconda3/envs/MLclass/lib/python3.10/site-packages/torch/nn/functional.py:1932\u001b[0m, in \u001b[0;36mlog_softmax\u001b[0;34m(input, dim, _stacklevel, dtype)\u001b[0m\n\u001b[1;32m   1930\u001b[0m     dim \u001b[38;5;241m=\u001b[39m _get_softmax_dim(\u001b[38;5;124m\"\u001b[39m\u001b[38;5;124mlog_softmax\u001b[39m\u001b[38;5;124m\"\u001b[39m, \u001b[38;5;28minput\u001b[39m\u001b[38;5;241m.\u001b[39mdim(), _stacklevel)\n\u001b[1;32m   1931\u001b[0m \u001b[38;5;28;01mif\u001b[39;00m dtype \u001b[38;5;129;01mis\u001b[39;00m \u001b[38;5;28;01mNone\u001b[39;00m:\n\u001b[0;32m-> 1932\u001b[0m     ret \u001b[38;5;241m=\u001b[39m \u001b[38;5;28;43minput\u001b[39;49m\u001b[38;5;241;43m.\u001b[39;49m\u001b[43mlog_softmax\u001b[49m\u001b[43m(\u001b[49m\u001b[43mdim\u001b[49m\u001b[43m)\u001b[49m\n\u001b[1;32m   1933\u001b[0m \u001b[38;5;28;01melse\u001b[39;00m:\n\u001b[1;32m   1934\u001b[0m     ret \u001b[38;5;241m=\u001b[39m \u001b[38;5;28minput\u001b[39m\u001b[38;5;241m.\u001b[39mlog_softmax(dim, dtype\u001b[38;5;241m=\u001b[39mdtype)\n",
      "\u001b[0;31mNotImplementedError\u001b[0m: Could not run 'aten::_log_softmax.out' with arguments from the 'QuantizedCPU' backend. This could be because the operator doesn't exist for this backend, or was omitted during the selective/custom build process (if using custom build). If you are a Facebook employee using PyTorch on mobile, please visit https://fburl.com/ptmfixes for possible resolutions. 'aten::_log_softmax.out' is only available for these backends: [CPU, CUDA, Meta, BackendSelect, Python, FuncTorchDynamicLayerBackMode, Functionalize, Named, Conjugate, Negative, ZeroTensor, ADInplaceOrView, AutogradOther, AutogradCPU, AutogradCUDA, AutogradHIP, AutogradXLA, AutogradMPS, AutogradIPU, AutogradXPU, AutogradHPU, AutogradVE, AutogradLazy, AutogradMeta, AutogradMTIA, AutogradPrivateUse1, AutogradPrivateUse2, AutogradPrivateUse3, AutogradNestedTensor, Tracer, AutocastCPU, AutocastCUDA, FuncTorchBatched, FuncTorchVmapMode, Batched, VmapMode, FuncTorchGradWrapper, PythonTLSSnapshot, FuncTorchDynamicLayerFrontMode, PythonDispatcher].\n\nCPU: registered at aten/src/ATen/RegisterCPU.cpp:31034 [kernel]\nCUDA: registered at aten/src/ATen/RegisterCUDA.cpp:43986 [kernel]\nMeta: registered at /dev/null:241 [kernel]\nBackendSelect: fallthrough registered at ../aten/src/ATen/core/BackendSelectFallbackKernel.cpp:3 [backend fallback]\nPython: registered at ../aten/src/ATen/core/PythonFallbackKernel.cpp:144 [backend fallback]\nFuncTorchDynamicLayerBackMode: registered at ../aten/src/ATen/functorch/DynamicLayer.cpp:491 [backend fallback]\nFunctionalize: registered at aten/src/ATen/RegisterFunctionalization_3.cpp:22788 [kernel]\nNamed: registered at ../aten/src/ATen/core/NamedRegistrations.cpp:7 [backend fallback]\nConjugate: registered at ../aten/src/ATen/ConjugateFallback.cpp:17 [backend fallback]\nNegative: registered at ../aten/src/ATen/native/NegateFallback.cpp:19 [backend fallback]\nZeroTensor: registered at ../aten/src/ATen/ZeroTensorFallback.cpp:86 [backend fallback]\nADInplaceOrView: registered at ../torch/csrc/autograd/generated/ADInplaceOrViewType_1.cpp:5017 [kernel]\nAutogradOther: registered at ../torch/csrc/autograd/generated/VariableType_0.cpp:15232 [autograd kernel]\nAutogradCPU: registered at ../torch/csrc/autograd/generated/VariableType_0.cpp:15232 [autograd kernel]\nAutogradCUDA: registered at ../torch/csrc/autograd/generated/VariableType_0.cpp:15232 [autograd kernel]\nAutogradHIP: registered at ../torch/csrc/autograd/generated/VariableType_0.cpp:15232 [autograd kernel]\nAutogradXLA: registered at ../torch/csrc/autograd/generated/VariableType_0.cpp:15232 [autograd kernel]\nAutogradMPS: registered at ../torch/csrc/autograd/generated/VariableType_0.cpp:15232 [autograd kernel]\nAutogradIPU: registered at ../torch/csrc/autograd/generated/VariableType_0.cpp:15232 [autograd kernel]\nAutogradXPU: registered at ../torch/csrc/autograd/generated/VariableType_0.cpp:15232 [autograd kernel]\nAutogradHPU: registered at ../torch/csrc/autograd/generated/VariableType_0.cpp:15232 [autograd kernel]\nAutogradVE: registered at ../torch/csrc/autograd/generated/VariableType_0.cpp:15232 [autograd kernel]\nAutogradLazy: registered at ../torch/csrc/autograd/generated/VariableType_0.cpp:15232 [autograd kernel]\nAutogradMeta: registered at ../torch/csrc/autograd/generated/VariableType_0.cpp:15232 [autograd kernel]\nAutogradMTIA: registered at ../torch/csrc/autograd/generated/VariableType_0.cpp:15232 [autograd kernel]\nAutogradPrivateUse1: registered at ../torch/csrc/autograd/generated/VariableType_0.cpp:15232 [autograd kernel]\nAutogradPrivateUse2: registered at ../torch/csrc/autograd/generated/VariableType_0.cpp:15232 [autograd kernel]\nAutogradPrivateUse3: registered at ../torch/csrc/autograd/generated/VariableType_0.cpp:15232 [autograd kernel]\nAutogradNestedTensor: registered at ../torch/csrc/autograd/generated/VariableType_0.cpp:15232 [autograd kernel]\nTracer: registered at ../torch/csrc/autograd/generated/TraceType_0.cpp:16728 [kernel]\nAutocastCPU: fallthrough registered at ../aten/src/ATen/autocast_mode.cpp:487 [backend fallback]\nAutocastCUDA: fallthrough registered at ../aten/src/ATen/autocast_mode.cpp:354 [backend fallback]\nFuncTorchBatched: registered at ../aten/src/ATen/functorch/LegacyBatchingRegistrations.cpp:815 [backend fallback]\nFuncTorchVmapMode: fallthrough registered at ../aten/src/ATen/functorch/VmapModeRegistrations.cpp:28 [backend fallback]\nBatched: registered at ../aten/src/ATen/LegacyBatchingRegistrations.cpp:1073 [backend fallback]\nVmapMode: fallthrough registered at ../aten/src/ATen/VmapModeRegistrations.cpp:33 [backend fallback]\nFuncTorchGradWrapper: registered at ../aten/src/ATen/functorch/TensorWrapper.cpp:210 [backend fallback]\nPythonTLSSnapshot: registered at ../aten/src/ATen/core/PythonFallbackKernel.cpp:152 [backend fallback]\nFuncTorchDynamicLayerFrontMode: registered at ../aten/src/ATen/functorch/DynamicLayer.cpp:487 [backend fallback]\nPythonDispatcher: registered at ../aten/src/ATen/core/PythonFallbackKernel.cpp:148 [backend fallback]\n"
     ]
    }
   ],
   "source": [
    "test(model, device, test_loader)"
   ]
  },
  {
   "cell_type": "code",
   "execution_count": null,
   "id": "05fc2a13",
   "metadata": {},
   "outputs": [],
   "source": [
    "import numpy as np\n",
    "\n",
    "# Ensure the model is in evaluation mode\n",
    "model.eval()\n",
    "\n",
    "for name, module in model.named_children():\n",
    "    if isinstance(module, torch.nn.quantized.Linear):\n",
    "        # Handle integer weights\n",
    "        weight_int_repr = module.weight().int_repr().numpy()\n",
    "        np.save(f\"{name}_weight_int.npy\", weight_int_repr)\n",
    "\n",
    "        # Handle scale and zero-point for weights\n",
    "        if hasattr(module.weight(), 'q_per_channel_scales'):  # Per-channel quantization\n",
    "            weight_scale = module.weight().q_per_channel_scales().numpy()\n",
    "            weight_zero_point = module.weight().q_per_channel_zero_points().numpy()\n",
    "        else:  # Per-tensor quantization\n",
    "            weight_scale = np.array([module.weight().q_scale()])\n",
    "            weight_zero_point = np.array([module.weight().q_zero_point()])\n",
    "        \n",
    "        np.save(f\"{name}_weight_scale.npy\", weight_scale)\n",
    "        np.save(f\"{name}_weight_zero_point.npy\", weight_zero_point)\n",
    "        \n",
    "        \n",
    "\n",
    "#         if hasattr(module, 'bias'):\n",
    "#             # Check if the bias is indeed a tensor and not None\n",
    "#             bias_attr = getattr(module, 'bias', None)\n",
    "#             if bias_attr is not None and isinstance(bias_attr, torch.Tensor):\n",
    "#                 # Ensure the tensor is detached and moved to CPU for conversion to NumPy\n",
    "#                 bias_tensor = bias_attr.detach().cpu().numpy()\n",
    "#                 np.save(f\"{name}_bias.npy\", bias_tensor)\n",
    "#             else:\n",
    "#                 print(f\"Module {name} has no bias or it's not accessible as expected.\")"
   ]
  },
  {
   "cell_type": "code",
   "execution_count": null,
   "id": "dcb897e5",
   "metadata": {},
   "outputs": [],
   "source": [
    "for layer_name in ['fc1', 'fc2']:\n",
    "    layer = getattr(model, layer_name, None)\n",
    "    if layer is not None:\n",
    "        print(f\"Inspecting {layer_name}:\")\n",
    "        if hasattr(layer, 'bias'):\n",
    "            print(f\"  Bias attribute exists for {layer_name}.\")\n",
    "            if layer.bias is not None:\n",
    "                print(f\"  Bias for {layer_name} is not None.\")\n",
    "                # Attempt to print out the size of the bias tensor\n",
    "                try:\n",
    "                    print(f\"  Bias size for {layer_name}: {layer.bias.size()}\")\n",
    "                except AttributeError as e:\n",
    "                    print(f\"  Encountered an AttributeError when accessing bias size for {layer_name}: {e}\")\n",
    "            else:\n",
    "                print(f\"  Bias for {layer_name} is None.\")\n",
    "        else:\n",
    "            print(f\"  No bias attribute found for {layer_name}.\")\n",
    "    else:\n",
    "        print(f\"Layer {layer_name} not found in the model.\")"
   ]
  },
  {
   "cell_type": "code",
   "execution_count": null,
   "id": "6af69120",
   "metadata": {},
   "outputs": [],
   "source": [
    "print(model)\n"
   ]
  },
  {
   "cell_type": "code",
   "execution_count": 9,
   "id": "5ddd2a5f",
   "metadata": {},
   "outputs": [
    {
     "name": "stdout",
     "output_type": "stream",
     "text": [
      "quant\n",
      "fc1\n",
      "(10, 784)\n",
      "fc2\n",
      "(10, 10)\n",
      "dequant\n"
     ]
    }
   ],
   "source": [
    "import numpy as np\n",
    "\n",
    "for name, module in model.named_children():\n",
    "    print(name)\n",
    "    if name == 'fc1' or name == 'fc2':\n",
    "        weight_int_repr = module.weight().int_repr().numpy()\n",
    "        np.save(f\"{name}_weight_int.npy\", weight_int_repr)\n",
    "        weight_int_repr.tofile(f\"{name}_weight_int.bin\")\n",
    "        print(weight_int_repr.shape)\n",
    "        \n",
    "        \n",
    "        # Check the quantization scheme and save scale and zero_point accordingly\n",
    "        if module.weight().qscheme() == torch.per_tensor_affine:\n",
    "            # Saving scale and zero_point for per-tensor quantization\n",
    "            weight_scale = np.array([module.weight().q_scale()], dtype=np.float32)\n",
    "            weight_zero_point = np.array([module.weight().q_zero_point()], dtype=np.int32)\n",
    "        elif module.weight().qscheme() == torch.per_channel_affine:\n",
    "            # Saving scale and zero_point for per-channel quantization\n",
    "            weight_scale = module.weight().q_per_channel_scales().numpy()\n",
    "            weight_zero_point = module.weight().q_per_channel_zero_points().numpy()\n",
    "        else:\n",
    "            raise NotImplementedError(\"Unsupported quantization scheme\")\n",
    "        \n",
    "        weight_scale.tofile(f\"{name}_weight_scale.bin\")\n",
    "        np.save(f\"{name}_weight_scale.npy\", weight_scale)\n",
    "        weight_zero_point.tofile(f\"{name}_weight_zero_point.bin\")\n",
    "        np.save(f\"{name}_weight_zero_point.npy\", weight_zero_point)\n",
    "\n",
    "        # Saving biases (already in float32)\n",
    "        if module.bias is not None:\n",
    "            bias = module.bias().detach().numpy()\n",
    "            bias.tofile(f\"{name}_bias.bin\")\n",
    "            np.save(f\"{name}_bias.npy\", bias)"
   ]
  },
  {
   "cell_type": "code",
   "execution_count": 28,
   "id": "e53e61aa",
   "metadata": {},
   "outputs": [],
   "source": [
    "mnist_train = datasets.MNIST(root='./data', train=True, download=True, transform=transforms.ToTensor())\n",
    "\n",
    "# Extract the first image and its label\n",
    "image, label = mnist_train[0]\n",
    "\n",
    "# Convert the image tensor to a PIL image (Note: 'image' is a 1x28x28 tensor)\n",
    "#image = transforms.ToPILImage()(image)\n",
    "\n",
    "\n",
    "# image_rgb = image.convert(\"RGB\")\n",
    "\n",
    "# # Save the image as BMP\n",
    "# image_rgb.save('mnist_first_image.bmp', 'BMP')\n",
    "\n",
    "# Convert the image tensor to a PIL image (Note: 'image' is a 1x28x28 tensor)\n",
    "image_pil = transforms.ToPILImage()(image.squeeze())  # Use .squeeze() to remove the channel dimension for grayscale\n",
    "\n",
    "# Save the image as BMP\n",
    "image_pil.save('mnist_first_image_grayscale.bmp', 'BMP')"
   ]
  },
  {
   "cell_type": "code",
   "execution_count": 29,
   "id": "352b30e8",
   "metadata": {},
   "outputs": [
    {
     "name": "stdout",
     "output_type": "stream",
     "text": [
      "(28, 28)\n"
     ]
    }
   ],
   "source": [
    "from PIL import Image\n",
    "image = Image.open('mnist_first_image_grayscale.bmp')\n",
    "\n",
    "# Convert the image to a NumPy array\n",
    "image_array = np.array(image)\n",
    "\n",
    "print(image_array.shape)"
   ]
  },
  {
   "cell_type": "code",
   "execution_count": 23,
   "id": "b0c4e34f",
   "metadata": {},
   "outputs": [
    {
     "name": "stdout",
     "output_type": "stream",
     "text": [
      "[  0.   0.   0.   0.   0.   0.   0.   0.   0.   0.   0.   0.   0.   0.\n",
      "   0.   0.   0.   0.   0.   0.   0.   0.   0.   0.   0.   0.   0.   0.\n",
      "   0.   0.   0.   0.   0.   0.   0.   0.   0.   0.   0.   0.   0.   0.\n",
      "   0.   0.   0.   0.   0.   0.   0.   0.   0.   0.   0.   0.   0.   0.\n",
      "   0.   0.   0.   0.   0.   0.   0.   0.   0.   0.   0.   0.   0.   0.\n",
      "   0.   0.   0.   0.   0.   0.   0.   0.   0.   0.   0.   0.   0.   0.\n",
      "   0.   0.   0.   0.   0.   0.   0.   0.   0.   0.   0.   0.   0.   0.\n",
      "   0.   0.   0.   0.   0.   0.   0.   0.   0.   0.   0.   0.   0.   0.\n",
      "   0.   0.   0.   0.   0.   0.   0.   0.   0.   0.   0.   0.   0.   0.\n",
      "   0.   0.   0.   0.   0.   0.   0.   0.   0.   0.   0.   0.   0.   0.\n",
      "   0.   0.   0.   0.   0.   0.   0.   0.   0.   0.   0.   0.   3.  18.\n",
      "  18.  18. 126. 136. 175.  26. 166. 255. 247. 127.   0.   0.   0.   0.\n",
      "   0.   0.   0.   0.   0.   0.   0.   0.  30.  36.  94. 154. 170. 253.\n",
      " 253. 253. 253. 253. 225. 172. 253. 242. 195.  64.   0.   0.   0.   0.\n",
      "   0.   0.   0.   0.   0.   0.   0.  49. 238. 253. 253. 253. 253. 253.\n",
      " 253. 253. 253. 251.  93.  82.  82.  56.  39.   0.   0.   0.   0.   0.\n",
      "   0.   0.   0.   0.   0.   0.   0.  18. 219. 253. 253. 253. 253. 253.\n",
      " 198. 182. 247. 241.   0.   0.   0.   0.   0.   0.   0.   0.   0.   0.\n",
      "   0.   0.   0.   0.   0.   0.   0.   0.  80. 156. 107. 253. 253. 205.\n",
      "  11.   0.  43. 154.   0.   0.   0.   0.   0.   0.   0.   0.   0.   0.\n",
      "   0.   0.   0.   0.   0.   0.   0.   0.   0.  14.   1. 154. 253.  90.\n",
      "   0.   0.   0.   0.   0.   0.   0.   0.   0.   0.   0.   0.   0.   0.\n",
      "   0.   0.   0.   0.   0.   0.   0.   0.   0.   0.   0. 139. 253. 190.\n",
      "   2.   0.   0.   0.   0.   0.   0.   0.   0.   0.   0.   0.   0.   0.\n",
      "   0.   0.   0.   0.   0.   0.   0.   0.   0.   0.   0.  11. 190. 253.\n",
      "  70.   0.   0.   0.   0.   0.   0.   0.   0.   0.   0.   0.   0.   0.\n",
      "   0.   0.   0.   0.   0.   0.   0.   0.   0.   0.   0.   0.  35. 241.\n",
      " 225. 160. 108.   1.   0.   0.   0.   0.   0.   0.   0.   0.   0.   0.\n",
      "   0.   0.   0.   0.   0.   0.   0.   0.   0.   0.   0.   0.   0.  81.\n",
      " 240. 253. 253. 119.  25.   0.   0.   0.   0.   0.   0.   0.   0.   0.\n",
      "   0.   0.   0.   0.   0.   0.   0.   0.   0.   0.   0.   0.   0.   0.\n",
      "  45. 186. 253. 253. 150.  27.   0.   0.   0.   0.   0.   0.   0.   0.\n",
      "   0.   0.   0.   0.   0.   0.   0.   0.   0.   0.   0.   0.   0.   0.\n",
      "   0.  16.  93. 252. 253. 187.   0.   0.   0.   0.   0.   0.   0.   0.\n",
      "   0.   0.   0.   0.   0.   0.   0.   0.   0.   0.   0.   0.   0.   0.\n",
      "   0.   0.   0. 249. 253. 249.  64.   0.   0.   0.   0.   0.   0.   0.\n",
      "   0.   0.   0.   0.   0.   0.   0.   0.   0.   0.   0.   0.   0.   0.\n",
      "  46. 130. 183. 253. 253. 207.   2.   0.   0.   0.   0.   0.   0.   0.\n",
      "   0.   0.   0.   0.   0.   0.   0.   0.   0.   0.   0.   0.  39. 148.\n",
      " 229. 253. 253. 253. 250. 182.   0.   0.   0.   0.   0.   0.   0.   0.\n",
      "   0.   0.   0.   0.   0.   0.   0.   0.   0.   0.  24. 114. 221. 253.\n",
      " 253. 253. 253. 201.  78.   0.   0.   0.   0.   0.   0.   0.   0.   0.\n",
      "   0.   0.   0.   0.   0.   0.   0.   0.  23.  66. 213. 253. 253. 253.\n",
      " 253. 198.  81.   2.   0.   0.   0.   0.   0.   0.   0.   0.   0.   0.\n",
      "   0.   0.   0.   0.   0.   0.  18. 171. 219. 253. 253. 253. 253. 195.\n",
      "  80.   9.   0.   0.   0.   0.   0.   0.   0.   0.   0.   0.   0.   0.\n",
      "   0.   0.   0.   0.  55. 172. 226. 253. 253. 253. 253. 244. 133.  11.\n",
      "   0.   0.   0.   0.   0.   0.   0.   0.   0.   0.   0.   0.   0.   0.\n",
      "   0.   0.   0.   0. 136. 253. 253. 253. 212. 135. 132.  16.   0.   0.\n",
      "   0.   0.   0.   0.   0.   0.   0.   0.   0.   0.   0.   0.   0.   0.\n",
      "   0.   0.   0.   0.   0.   0.   0.   0.   0.   0.   0.   0.   0.   0.\n",
      "   0.   0.   0.   0.   0.   0.   0.   0.   0.   0.   0.   0.   0.   0.\n",
      "   0.   0.   0.   0.   0.   0.   0.   0.   0.   0.   0.   0.   0.   0.\n",
      "   0.   0.   0.   0.   0.   0.   0.   0.   0.   0.   0.   0.   0.   0.\n",
      "   0.   0.   0.   0.   0.   0.   0.   0.   0.   0.   0.   0.   0.   0.\n",
      "   0.   0.   0.   0.   0.   0.   0.   0.   0.   0.   0.   0.   0.   0.]\n"
     ]
    }
   ],
   "source": [
    "# Collapse the (28, 28, 3) array into a (784, 3) array\n",
    "collapsed_array = image_array.reshape(-1, 3)\n",
    "\n",
    "# Take the average of all elements in the 3rd dimension to make it a (784,) array\n",
    "average_array = np.mean(collapsed_array, axis=1)\n",
    "print(average_array)"
   ]
  },
  {
   "cell_type": "code",
   "execution_count": 10,
   "id": "bb7881df",
   "metadata": {},
   "outputs": [
    {
     "name": "stdout",
     "output_type": "stream",
     "text": [
      "[[  86   63   30  -58  127 -128  127 -128 -128 -128]\n",
      " [-128 -128  127  127 -128  127 -128  127  -86 -128]\n",
      " [ -59  127  127 -114   94 -107 -128   52   19  -43]\n",
      " [-125  -90  127  127 -128 -128   70  -26  127   14]\n",
      " [  34   84 -128  -69 -128  -11  -82   12  -85  127]\n",
      " [  41   29 -128  127  127   23 -128 -128   70   15]\n",
      " [ -35  127 -128   54 -128  -69   29  127 -128 -128]\n",
      " [-128 -128  127 -128  127 -120  127  127 -128  127]\n",
      " [  39   62  -62 -128 -128  127   86  -21  127 -128]\n",
      " [ 127 -128  -38  -33 -128  -40   45  127    0   -2]]\n"
     ]
    }
   ],
   "source": [
    "print(weight_int_repr)"
   ]
  },
  {
   "cell_type": "code",
   "execution_count": 13,
   "id": "8cb82778",
   "metadata": {},
   "outputs": [
    {
     "name": "stdout",
     "output_type": "stream",
     "text": [
      "[[[0 0 0]\n",
      "  [0 0 0]\n",
      "  [0 0 0]\n",
      "  ...\n",
      "  [0 0 0]\n",
      "  [0 0 0]\n",
      "  [0 0 0]]\n",
      "\n",
      " [[0 0 0]\n",
      "  [0 0 0]\n",
      "  [0 0 0]\n",
      "  ...\n",
      "  [0 0 0]\n",
      "  [0 0 0]\n",
      "  [0 0 0]]\n",
      "\n",
      " [[0 0 0]\n",
      "  [0 0 0]\n",
      "  [0 0 0]\n",
      "  ...\n",
      "  [0 0 0]\n",
      "  [0 0 0]\n",
      "  [0 0 0]]\n",
      "\n",
      " ...\n",
      "\n",
      " [[0 0 0]\n",
      "  [0 0 0]\n",
      "  [0 0 0]\n",
      "  ...\n",
      "  [0 0 0]\n",
      "  [0 0 0]\n",
      "  [0 0 0]]\n",
      "\n",
      " [[0 0 0]\n",
      "  [0 0 0]\n",
      "  [0 0 0]\n",
      "  ...\n",
      "  [0 0 0]\n",
      "  [0 0 0]\n",
      "  [0 0 0]]\n",
      "\n",
      " [[0 0 0]\n",
      "  [0 0 0]\n",
      "  [0 0 0]\n",
      "  ...\n",
      "  [0 0 0]\n",
      "  [0 0 0]\n",
      "  [0 0 0]]]\n"
     ]
    }
   ],
   "source": [
    "image_array = np.array(image_rgb)\n",
    "\n",
    "print(image_array)"
   ]
  },
  {
   "cell_type": "code",
   "execution_count": 24,
   "id": "75ce6d6e",
   "metadata": {},
   "outputs": [
    {
     "name": "stdout",
     "output_type": "stream",
     "text": [
      "quant\n",
      "fc1\n",
      "fc2\n",
      "dequant\n"
     ]
    }
   ],
   "source": [
    "for name, module in model.named_children():\n",
    "    print(name)\n",
    "    if name == 'fc1':\n",
    "        weight_int_repr = module.weight().int_repr().numpy()\n",
    "#         np.save(f\"{name}_weight_int.npy\", weight_int_repr)\n",
    "#         weight_int_repr.tofile(f\"{name}_weight_int.bin\")\n",
    "#         print(weight_int_repr.shape)"
   ]
  },
  {
   "cell_type": "code",
   "execution_count": 44,
   "id": "e756aab3",
   "metadata": {},
   "outputs": [
    {
     "name": "stdout",
     "output_type": "stream",
     "text": [
      "(28, 28)\n"
     ]
    }
   ],
   "source": [
    "image_array = image_array.astype(np.float64)\n",
    "print(image_array.shape)\n",
    "flattened_array = image_array.flatten()"
   ]
  },
  {
   "cell_type": "code",
   "execution_count": 41,
   "id": "b3d840be",
   "metadata": {},
   "outputs": [
    {
     "name": "stdout",
     "output_type": "stream",
     "text": [
      "(10, 784)\n"
     ]
    }
   ],
   "source": [
    "weight_int_repr = weight_int_repr.astype(np.float64)\n",
    "print(weight_int_repr.shape)"
   ]
  },
  {
   "cell_type": "code",
   "execution_count": 48,
   "id": "b268f767",
   "metadata": {
    "scrolled": true
   },
   "outputs": [
    {
     "name": "stdout",
     "output_type": "stream",
     "text": [
      "[0. 0. 0. 0. 0. 0. 0. 0. 0. 0.]\n"
     ]
    }
   ],
   "source": [
    "f1_out = np.dot(weight_int_repr[:10,:10],flattened_array[:10])\n",
    "print(f1_out)"
   ]
  },
  {
   "cell_type": "code",
   "execution_count": 38,
   "id": "f51bbf07",
   "metadata": {},
   "outputs": [
    {
     "name": "stdout",
     "output_type": "stream",
     "text": [
      "(980,)\n"
     ]
    }
   ],
   "source": [
    "file_path = 'fc1_weight_int.bin'\n",
    "\n",
    "# Read the binary file and convert it into a numpy array\n",
    "data = np.fromfile(file_path, dtype=int)\n",
    "print(data.shape)"
   ]
  },
  {
   "cell_type": "code",
   "execution_count": null,
   "id": "678e5bc1",
   "metadata": {},
   "outputs": [],
   "source": []
  }
 ],
 "metadata": {
  "kernelspec": {
   "display_name": "Python 3 (ipykernel)",
   "language": "python",
   "name": "python3"
  },
  "language_info": {
   "codemirror_mode": {
    "name": "ipython",
    "version": 3
   },
   "file_extension": ".py",
   "mimetype": "text/x-python",
   "name": "python",
   "nbconvert_exporter": "python",
   "pygments_lexer": "ipython3",
   "version": "3.10.10"
  }
 },
 "nbformat": 4,
 "nbformat_minor": 5
}
